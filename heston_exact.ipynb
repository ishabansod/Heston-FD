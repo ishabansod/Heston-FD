{
 "cells": [
  {
   "cell_type": "code",
   "execution_count": null,
   "metadata": {},
   "outputs": [],
   "source": [
    "import numpy as np\n",
    "import matplotlib.pyplot as plt\n",
    "from scipy.integrate import quad\n",
    "from scipy.stats import norm\n",
    "from scipy.optimize import newton\n",
    "import scipy.optimize as opt\n",
    "import math\n",
    "from mpl_toolkits.mplot3d import Axes3D"
   ]
  },
  {
   "cell_type": "markdown",
   "metadata": {},
   "source": [
    "HESTON MODEL\n",
    "\n",
    "Parameters\n",
    "\n",
    "lambda  : mean-reversion speed \\\n",
    "vbar    : long-term average volatility \\\n",
    "eta     : volatility of vol process \\\n",
    "rho     : correlation between stock and vol \\\n",
    "v0      : initial volatility \\\n",
    "r       : risk-free interest rate \\\n",
    "tau     : time to maturity \\\n",
    "S0      : initial share price \\\n",
    "K       : strike price "
   ]
  },
  {
   "cell_type": "code",
   "execution_count": null,
   "metadata": {},
   "outputs": [],
   "source": [
    "def PIntegrand(u, lambda_, vbar, eta, rho, v0, r, tau, S0, K, j):\n",
    "        F = S0 * np.exp(r * tau)\n",
    "        x = np.log(F / K)\n",
    "        a = lambda_ * vbar\n",
    "\n",
    "        if j == 1:\n",
    "            b = lambda_ - rho * eta\n",
    "            alpha = -u**2 / 2 - u / 2 * 1j + 1j * u\n",
    "            beta = lambda_ - rho * eta - rho * eta * 1j * u\n",
    "        else:\n",
    "            b = lambda_\n",
    "            alpha = -u**2 / 2 - u / 2 * 1j\n",
    "            beta = lambda_ - rho * eta * 1j * u\n",
    "\n",
    "        gamma = eta**2 / 2\n",
    "        d = np.sqrt(beta**2 - 4 * alpha * gamma)\n",
    "        rplus = (beta + d) / (2 * gamma)\n",
    "        rminus = (beta - d) / (2 * gamma)\n",
    "        g = rminus / rplus\n",
    "\n",
    "        D = rminus * (1 - np.exp(-d * tau)) / (1 - g * np.exp(-d * tau))\n",
    "        C = lambda_ * (rminus * tau - (2 / (eta**2)) * np.log((1 - g * np.exp(-d * tau)) / (1 - g)))\n",
    "\n",
    "        top = np.exp(C * vbar + D * v0 + 1j * u * x)\n",
    "        bottom = 1j * u\n",
    "        real_part = (top / bottom).real\n",
    "        return real_part"
   ]
  },
  {
   "cell_type": "code",
   "execution_count": null,
   "metadata": {},
   "outputs": [],
   "source": [
    "def P(lambda_, vbar, eta, rho, v0, r, tau, S0, K, j):\n",
    "        value, _ = quad(PIntegrand, 0, np.inf, args=(lambda_, vbar, eta, rho, v0, r, tau, S0, K, j))\n",
    "        prob = 0.5 + (1/np.pi) * value\n",
    "        return prob"
   ]
  },
  {
   "cell_type": "code",
   "execution_count": null,
   "metadata": {},
   "outputs": [],
   "source": [
    "def HestonCallClosedForm(lambda_, vbar, eta, rho, v0, r, tau, S0, K):\n",
    "\n",
    "    A = S0 * P(lambda_, vbar, eta, rho, v0, r, tau, S0, K, 1)\n",
    "    B = K * np.exp(-r * tau) * P(lambda_, vbar, eta, rho, v0, r, tau, S0, K, 0)\n",
    "    \n",
    "    return A - B"
   ]
  },
  {
   "cell_type": "code",
   "execution_count": null,
   "metadata": {},
   "outputs": [],
   "source": []
  },
  {
   "cell_type": "code",
   "execution_count": null,
   "metadata": {},
   "outputs": [],
   "source": []
  },
  {
   "cell_type": "code",
   "execution_count": null,
   "metadata": {},
   "outputs": [],
   "source": []
  }
 ],
 "metadata": {
  "kernelspec": {
   "display_name": "Python 3",
   "language": "python",
   "name": "python3"
  },
  "language_info": {
   "name": "python",
   "version": "3.11.1"
  }
 },
 "nbformat": 4,
 "nbformat_minor": 2
}
