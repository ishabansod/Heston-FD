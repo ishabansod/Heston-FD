{
 "cells": [
  {
   "cell_type": "code",
   "execution_count": 1,
   "metadata": {},
   "outputs": [],
   "source": [
    "import numpy as np\n",
    "import matplotlib.pyplot as plt\n",
    "from scipy.integrate import quad\n",
    "from scipy.stats import norm\n",
    "from scipy.optimize import newton\n",
    "import scipy.optimize as opt\n",
    "import math\n",
    "from mpl_toolkits.mplot3d import Axes3D"
   ]
  },
  {
   "cell_type": "code",
   "execution_count": 5,
   "metadata": {},
   "outputs": [],
   "source": [
    "\n",
    "\n",
    "# Heston model parameters\n",
    "S0 = 100  # Initial stock price\n",
    "K = 100   # Strike price\n",
    "r = 0.03  # Risk-free interest rate\n",
    "T = 1.0   # Time to maturity\n",
    "v0 = 0.04 # Initial volatility\n",
    "kappa = 2.0\n",
    "theta = 0.04\n",
    "eta = 0.2\n",
    "rho = 0.8\n",
    "\n",
    "# Numerical parameters\n",
    "x_max = 1.5  # Max x value for integration\n",
    "N = 100      # Number of intervals for numerical integration\n"
   ]
  },
  {
   "cell_type": "code",
   "execution_count": 9,
   "metadata": {},
   "outputs": [],
   "source": [
    "# Define the characteristic function of the Heston model\n",
    "def characteristic_function(u, x, v, tau):\n",
    "    alpha = -u**2 / 2 - 1j * u / 2\n",
    "    beta = kappa - rho * eta * 1j * u\n",
    "    gamma = 0.5 * eta**2\n",
    "    \n",
    "    d = np.sqrt(beta**2 - 4 * alpha * gamma)\n",
    "    r_plus = (beta + d) / eta**2\n",
    "    r_minus = (beta - d) / eta**2\n",
    "    g = r_minus / r_plus\n",
    "    \n",
    "    C_tau = (r_minus * tau - 2 / eta**2) * np.log((1 - (1 / g) * np.exp(-d * tau)) / (1 - g))\n",
    "    D_tau = (r_minus / (1 - np.exp(-d * tau))) * (1 - (1 / g) * np.exp(-d * tau))\n",
    "    \n",
    "    return np.exp(1j * u * x) * np.exp(C_tau * v + D_tau * v)\n",
    "\n"
   ]
  },
  {
   "cell_type": "code",
   "execution_count": 16,
   "metadata": {},
   "outputs": [
    {
     "name": "stdout",
     "output_type": "stream",
     "text": [
      "-1.47\n"
     ]
    }
   ],
   "source": [
    "print(-x_max + 1 * 2 * x_max / N)"
   ]
  },
  {
   "cell_type": "code",
   "execution_count": 10,
   "metadata": {},
   "outputs": [],
   "source": [
    "# Define the numerical integration for P_j\n",
    "def integrate_Pj(j, x, v, tau):\n",
    "    integral = 0.0\n",
    "    for n in range(N):\n",
    "        u_n = -x_max + n * 2 * x_max / N\n",
    "        integrand = (1 / (2 * np.pi)) * np.exp(-1j * u_n * x) * characteristic_function(u_n, x, v, tau) * (1j * u_n / 2)\n",
    "        integral += integrand.real  # We take the real part\n",
    "    return integral\n",
    "\n"
   ]
  },
  {
   "cell_type": "code",
   "execution_count": null,
   "metadata": {},
   "outputs": [],
   "source": []
  },
  {
   "cell_type": "code",
   "execution_count": 11,
   "metadata": {},
   "outputs": [],
   "source": [
    "# Calculate pseudo-probabilities P0 and P1 for European call option\n",
    "def calculate_pseudo_probabilities(x, v, tau):\n",
    "    P0 = 0.5 + integrate_Pj(0, x, v, tau)\n",
    "    P1 = 0.5 + integrate_Pj(1, x, v, tau)\n",
    "    return P0, P1\n",
    "\n"
   ]
  },
  {
   "cell_type": "code",
   "execution_count": null,
   "metadata": {},
   "outputs": [],
   "source": []
  },
  {
   "cell_type": "code",
   "execution_count": 12,
   "metadata": {},
   "outputs": [
    {
     "name": "stdout",
     "output_type": "stream",
     "text": [
      "P0: nan\n",
      "P1: nan\n"
     ]
    },
    {
     "name": "stderr",
     "output_type": "stream",
     "text": [
      "C:\\Users\\Souvik Chakraborty\\AppData\\Local\\Temp\\ipykernel_11004\\3460898696.py:12: RuntimeWarning: divide by zero encountered in cdouble_scalars\n",
      "  C_tau = (r_minus * tau - 2 / eta**2) * np.log((1 - (1 / g) * np.exp(-d * tau)) / (1 - g))\n",
      "C:\\Users\\Souvik Chakraborty\\AppData\\Local\\Temp\\ipykernel_11004\\3460898696.py:12: RuntimeWarning: invalid value encountered in cdouble_scalars\n",
      "  C_tau = (r_minus * tau - 2 / eta**2) * np.log((1 - (1 / g) * np.exp(-d * tau)) / (1 - g))\n",
      "C:\\Users\\Souvik Chakraborty\\AppData\\Local\\Temp\\ipykernel_11004\\3460898696.py:12: RuntimeWarning: invalid value encountered in log\n",
      "  C_tau = (r_minus * tau - 2 / eta**2) * np.log((1 - (1 / g) * np.exp(-d * tau)) / (1 - g))\n",
      "C:\\Users\\Souvik Chakraborty\\AppData\\Local\\Temp\\ipykernel_11004\\3460898696.py:13: RuntimeWarning: divide by zero encountered in cdouble_scalars\n",
      "  D_tau = (r_minus / (1 - np.exp(-d * tau))) * (1 - (1 / g) * np.exp(-d * tau))\n",
      "C:\\Users\\Souvik Chakraborty\\AppData\\Local\\Temp\\ipykernel_11004\\3460898696.py:13: RuntimeWarning: invalid value encountered in cdouble_scalars\n",
      "  D_tau = (r_minus / (1 - np.exp(-d * tau))) * (1 - (1 / g) * np.exp(-d * tau))\n"
     ]
    }
   ],
   "source": [
    "# Example usage\n",
    "x_val = np.log(S0 / K)\n",
    "P0_result, P1_result = calculate_pseudo_probabilities(x_val, v0, T)\n",
    "print(\"P0:\", P0_result)\n",
    "print(\"P1:\", P1_result)\n"
   ]
  },
  {
   "cell_type": "code",
   "execution_count": 17,
   "metadata": {},
   "outputs": [
    {
     "name": "stdout",
     "output_type": "stream",
     "text": [
      "0.0\n"
     ]
    }
   ],
   "source": [
    "print(x_val)"
   ]
  },
  {
   "cell_type": "code",
   "execution_count": null,
   "metadata": {},
   "outputs": [],
   "source": []
  },
  {
   "cell_type": "code",
   "execution_count": null,
   "metadata": {},
   "outputs": [],
   "source": []
  },
  {
   "cell_type": "code",
   "execution_count": null,
   "metadata": {},
   "outputs": [],
   "source": []
  },
  {
   "cell_type": "code",
   "execution_count": 18,
   "metadata": {},
   "outputs": [],
   "source": [
    "def PIntegrand(u, lambda_, vbar, eta, rho, v0, r, tau, S0, K, j):\n",
    "        F = S0 * np.exp(r * tau)\n",
    "        x = np.log(F / K)\n",
    "        a = lambda_ * vbar\n",
    "\n",
    "        if j == 1:\n",
    "            b = lambda_ - rho * eta\n",
    "            alpha = -u**2 / 2 - u / 2 * 1j + 1j * u\n",
    "            beta = lambda_ - rho * eta - rho * eta * 1j * u\n",
    "        else:\n",
    "            b = lambda_\n",
    "            alpha = -u**2 / 2 - u / 2 * 1j\n",
    "            beta = lambda_ - rho * eta * 1j * u\n",
    "\n",
    "        gamma = eta**2 / 2\n",
    "        d = np.sqrt(beta**2 - 4 * alpha * gamma)\n",
    "        rplus = (beta + d) / (2 * gamma)\n",
    "        rminus = (beta - d) / (2 * gamma)\n",
    "        g = rminus / rplus\n",
    "\n",
    "        D = rminus * (1 - np.exp(-d * tau)) / (1 - g * np.exp(-d * tau))\n",
    "        C = lambda_ * (rminus * tau - (2 / (eta**2)) * np.log((1 - g * np.exp(-d * tau)) / (1 - g)))\n",
    "\n",
    "        top = np.exp(C * vbar + D * v0 + 1j * u * x)\n",
    "        bottom = 1j * u\n",
    "        real_part = (top / bottom).real\n",
    "        return real_part"
   ]
  },
  {
   "cell_type": "code",
   "execution_count": 19,
   "metadata": {},
   "outputs": [],
   "source": [
    "def P(lambda_, vbar, eta, rho, v0, r, tau, S0, K, j):\n",
    "        value, _ = quad(PIntegrand, 0, np.inf, args=(lambda_, vbar, eta, rho, v0, r, tau, S0, K, j))\n",
    "        prob = 0.5 + (1/np.pi) * value\n",
    "        return prob"
   ]
  },
  {
   "cell_type": "code",
   "execution_count": 20,
   "metadata": {},
   "outputs": [],
   "source": [
    "def HestonCallClosedForm(lambda_, vbar, eta, rho, v0, r, tau, S0, K):\n",
    "\n",
    "    A = S0 * P(lambda_, vbar, eta, rho, v0, r, tau, S0, K, 1)\n",
    "    B = K * np.exp(-r * tau) * P(lambda_, vbar, eta, rho, v0, r, tau, S0, K, 0)\n",
    "    \n",
    "    return A - B"
   ]
  },
  {
   "cell_type": "code",
   "execution_count": null,
   "metadata": {},
   "outputs": [],
   "source": []
  }
 ],
 "metadata": {
  "kernelspec": {
   "display_name": "Python 3",
   "language": "python",
   "name": "python3"
  },
  "language_info": {
   "codemirror_mode": {
    "name": "ipython",
    "version": 3
   },
   "file_extension": ".py",
   "mimetype": "text/x-python",
   "name": "python",
   "nbconvert_exporter": "python",
   "pygments_lexer": "ipython3",
   "version": "3.10.11"
  }
 },
 "nbformat": 4,
 "nbformat_minor": 2
}
